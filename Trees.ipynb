{
 "cells": [
  {
   "cell_type": "code",
   "execution_count": 1,
   "metadata": {},
   "outputs": [],
   "source": [
    "class BinaryTree:\n",
    "    def __init__(self, data):\n",
    "        self.data = data\n",
    "        self.parent = None\n",
    "        self.left = None\n",
    "        self.right = None\n",
    "        \n",
    "    def __str__(self):\n",
    "        if self.data is None:\n",
    "            return '(. . .)'\n",
    "        else:\n",
    "            result = '('\n",
    "            result += str(self.left) if self.left is not None else '.'\n",
    "            result += f' {self.data} '\n",
    "            result += str(self.right) if self.right is not None else '.'\n",
    "            result += ')'\n",
    "            return result\n",
    "        \n",
    "    def add(self, value):\n",
    "        if value != self.data:\n",
    "            if value < self.data:\n",
    "                if self.left is None:\n",
    "                    self.left = BinaryTree(value)\n",
    "                    self.left.parent = self\n",
    "                else:\n",
    "                    self.left.add(value)\n",
    "            else:\n",
    "                if self.right is None:\n",
    "                    self.right = BinaryTree(value)\n",
    "                    self.right.parent = self\n",
    "                else:\n",
    "                    self.right.add(value)"
   ]
  },
  {
   "cell_type": "code",
   "execution_count": 2,
   "metadata": {},
   "outputs": [],
   "source": [
    "def bst_from(values):\n",
    "    tree = BinaryTree(values[0] if len(values) > 0 else None)\n",
    "    for v in values:\n",
    "        tree.add(v)\n",
    "    return tree"
   ]
  },
  {
   "cell_type": "code",
   "execution_count": 3,
   "metadata": {},
   "outputs": [],
   "source": [
    "t = BinaryTree(11)"
   ]
  },
  {
   "cell_type": "code",
   "execution_count": 4,
   "metadata": {},
   "outputs": [],
   "source": [
    "t.add(3)\n",
    "t.add(2)\n",
    "t.add(5)\n",
    "t.add(27)\n",
    "t.add(14)"
   ]
  },
  {
   "cell_type": "code",
   "execution_count": 5,
   "metadata": {},
   "outputs": [
    {
     "name": "stdout",
     "output_type": "stream",
     "text": [
      "(((. 2 .) 3 (. 5 .)) 11 ((. 14 .) 27 .))\n"
     ]
    }
   ],
   "source": [
    "print(t)"
   ]
  },
  {
   "cell_type": "code",
   "execution_count": 6,
   "metadata": {},
   "outputs": [],
   "source": [
    "def prefix_print(tree):\n",
    "    stack = []\n",
    "    stack.append(tree)\n",
    "    while len(stack) > 0:\n",
    "        node = stack.pop()\n",
    "        print(node.data)\n",
    "        if node.right is not None:\n",
    "            stack.append(node.right)\n",
    "        if node.left is not None:\n",
    "            stack.append(node.left)\n",
    "            \n",
    "def infix_print(tree):\n",
    "    node = tree\n",
    "    stack = []\n",
    "    while len(stack) > 0 or node is not None:\n",
    "        if node is not None:\n",
    "            stack.append(node)\n",
    "            node = node.left\n",
    "        else:\n",
    "            node = stack.pop()\n",
    "            print(node.data)\n",
    "            node = node.right"
   ]
  },
  {
   "cell_type": "code",
   "execution_count": 7,
   "metadata": {},
   "outputs": [
    {
     "name": "stdout",
     "output_type": "stream",
     "text": [
      "11\n",
      "3\n",
      "2\n",
      "5\n",
      "27\n",
      "14\n"
     ]
    }
   ],
   "source": [
    "prefix_print(t)"
   ]
  },
  {
   "cell_type": "code",
   "execution_count": 8,
   "metadata": {},
   "outputs": [
    {
     "name": "stdout",
     "output_type": "stream",
     "text": [
      "2\n",
      "3\n",
      "5\n",
      "11\n",
      "14\n",
      "27\n"
     ]
    }
   ],
   "source": [
    "infix_print(t)"
   ]
  },
  {
   "cell_type": "code",
   "execution_count": 9,
   "metadata": {},
   "outputs": [
    {
     "name": "stdout",
     "output_type": "stream",
     "text": [
      "9\n",
      "8\n",
      "1\n",
      "0\n",
      "3\n",
      "2\n",
      "5\n",
      "4\n",
      "7\n",
      "6\n",
      "\n",
      "0\n",
      "1\n",
      "2\n",
      "3\n",
      "4\n",
      "5\n",
      "6\n",
      "7\n",
      "8\n",
      "9\n"
     ]
    }
   ],
   "source": [
    "import numpy as np\n",
    "\n",
    "t2 = bst_from(np.random.permutation(10))\n",
    "prefix_print(t2)\n",
    "print()\n",
    "infix_print(t2)"
   ]
  },
  {
   "cell_type": "code",
   "execution_count": 10,
   "metadata": {},
   "outputs": [],
   "source": [
    "def maximum(tree):\n",
    "    while tree.right is not None:\n",
    "        tree = tree.right\n",
    "    return tree\n",
    "\n",
    "def minimum(tree):\n",
    "    while tree.left is not None:\n",
    "        tree = tree.left\n",
    "    return tree"
   ]
  },
  {
   "cell_type": "code",
   "execution_count": 11,
   "metadata": {},
   "outputs": [
    {
     "data": {
      "text/plain": [
       "(27, 2)"
      ]
     },
     "execution_count": 11,
     "metadata": {},
     "output_type": "execute_result"
    }
   ],
   "source": [
    "max_node = maximum(t)\n",
    "min_node = minimum(t)\n",
    "max_node.data, min_node.data"
   ]
  },
  {
   "cell_type": "code",
   "execution_count": 12,
   "metadata": {},
   "outputs": [],
   "source": [
    "def first_left_parent(node):\n",
    "    while node.parent is not None:\n",
    "        if node.parent.left == node:\n",
    "            return node.parent\n",
    "        node = node.parent\n",
    "    return None\n",
    "\n",
    "def first_right_parent(node):\n",
    "    while node.parent is not None:\n",
    "        if node.parent.right == node:\n",
    "            return node.parent\n",
    "        node = node.parent\n",
    "    return None\n",
    "\n",
    "def infix_successor(node):\n",
    "    return minimum(node.right) if node.right is not None else first_left_parent(node)\n",
    "\n",
    "def infix_predecessor(node):\n",
    "    return maximum(node.left) if node.left is not None else first_right_parent(node)"
   ]
  },
  {
   "cell_type": "code",
   "execution_count": 13,
   "metadata": {},
   "outputs": [],
   "source": [
    "def find(tree, value):\n",
    "    if value < tree.data:\n",
    "        return find(tree.left, value)\n",
    "    elif value > tree.data:\n",
    "        return find(tree.right, value)\n",
    "    elif value == tree.data:\n",
    "        return tree\n",
    "    else:\n",
    "        return None"
   ]
  },
  {
   "cell_type": "code",
   "execution_count": 14,
   "metadata": {},
   "outputs": [
    {
     "name": "stdout",
     "output_type": "stream",
     "text": [
      "11 14\n"
     ]
    }
   ],
   "source": [
    "eleven = find(t, 11)\n",
    "before_eleven = infix_successor(find(t, 11))\n",
    "print(eleven.data, before_eleven.data)"
   ]
  },
  {
   "cell_type": "code",
   "execution_count": 15,
   "metadata": {},
   "outputs": [],
   "source": [
    "def infix_list(tree):\n",
    "    node = tree\n",
    "    stack = []\n",
    "    result = []\n",
    "    while len(stack) > 0 or node is not None:\n",
    "        if node is not None:\n",
    "            stack.append(node)\n",
    "            node = node.left\n",
    "        else:\n",
    "            node = stack.pop()\n",
    "            result.append(node.data)\n",
    "            node = node.right\n",
    "    return result"
   ]
  },
  {
   "cell_type": "code",
   "execution_count": 16,
   "metadata": {},
   "outputs": [
    {
     "data": {
      "text/plain": [
       "[2, 3, 5, 11, 14, 27]"
      ]
     },
     "execution_count": 16,
     "metadata": {},
     "output_type": "execute_result"
    }
   ],
   "source": [
    "infix_list(t)"
   ]
  },
  {
   "cell_type": "code",
   "execution_count": 17,
   "metadata": {},
   "outputs": [
    {
     "name": "stdout",
     "output_type": "stream",
     "text": [
      "(. 2 .) succeeded by ((. 2 .) 3 (. 5 .))\n",
      "((. 2 .) 3 (. 5 .)) succeeded by (. 5 .)\n",
      "(. 5 .) succeeded by (((. 2 .) 3 (. 5 .)) 11 ((. 14 .) 27 .))\n",
      "(((. 2 .) 3 (. 5 .)) 11 ((. 14 .) 27 .)) succeeded by (. 14 .)\n",
      "(. 14 .) succeeded by ((. 14 .) 27 .)\n",
      "((. 14 .) 27 .) succeeded by None\n"
     ]
    }
   ],
   "source": [
    "for v in infix_list(t):\n",
    "    print(find(t, v), 'succeeded by', infix_successor(find(t,v)))"
   ]
  },
  {
   "cell_type": "code",
   "execution_count": 18,
   "metadata": {},
   "outputs": [
    {
     "name": "stdout",
     "output_type": "stream",
     "text": [
      "(. 2 .) preceded by None\n",
      "((. 2 .) 3 (. 5 .)) preceded by (. 2 .)\n",
      "(. 5 .) preceded by ((. 2 .) 3 (. 5 .))\n",
      "(((. 2 .) 3 (. 5 .)) 11 ((. 14 .) 27 .)) preceded by (. 5 .)\n",
      "(. 14 .) preceded by (((. 2 .) 3 (. 5 .)) 11 ((. 14 .) 27 .))\n",
      "((. 14 .) 27 .) preceded by (. 14 .)\n"
     ]
    }
   ],
   "source": [
    "for v in infix_list(t):\n",
    "    print(find(t, v), 'preceded by', infix_predecessor(find(t,v)))"
   ]
  },
  {
   "cell_type": "code",
   "execution_count": 19,
   "metadata": {},
   "outputs": [],
   "source": [
    "def remove_leaf(node):\n",
    "    if node.parent is None:\n",
    "        # then node is the root and only node\n",
    "        node.data = None\n",
    "    else:\n",
    "        if node.parent.left == node:\n",
    "            node.parent.left = None\n",
    "        else:\n",
    "            node.parent.right = None\n",
    "\n",
    "\n",
    "def remove(node):\n",
    "    if node.left is None and node.right is None:\n",
    "        print('removing leaf node')\n",
    "        remove_leaf(node)\n",
    "    elif node.left is not None and node.right is not None:\n",
    "        print('removing node with two children')\n",
    "        successor = infix_successor(node)\n",
    "        node.data, successor.data = successor.data, node.data\n",
    "        remove(successor)\n",
    "    else:\n",
    "        print('removing node with one child')\n",
    "        only_child = node.left if node.left is not None else node.right\n",
    "        node.data, node.left, node.right = only_child.data, only_child.left, only_child.right\n",
    "        "
   ]
  },
  {
   "cell_type": "code",
   "execution_count": 20,
   "metadata": {},
   "outputs": [
    {
     "name": "stdout",
     "output_type": "stream",
     "text": [
      "(((. 2 .) 3 (. 5 .)) 11 ((. 14 .) 27 .))\n"
     ]
    }
   ],
   "source": [
    "print(t)"
   ]
  },
  {
   "cell_type": "code",
   "execution_count": 21,
   "metadata": {},
   "outputs": [
    {
     "name": "stdout",
     "output_type": "stream",
     "text": [
      "removing node with two children\n",
      "removing leaf node\n"
     ]
    }
   ],
   "source": [
    "remove(t)"
   ]
  },
  {
   "cell_type": "code",
   "execution_count": 22,
   "metadata": {},
   "outputs": [
    {
     "name": "stdout",
     "output_type": "stream",
     "text": [
      "(((. 2 .) 3 (. 5 .)) 14 (. 27 .))\n"
     ]
    }
   ],
   "source": [
    "print(t)"
   ]
  },
  {
   "cell_type": "code",
   "execution_count": 23,
   "metadata": {},
   "outputs": [
    {
     "name": "stdout",
     "output_type": "stream",
     "text": [
      "removing node with two children\n",
      "removing leaf node\n"
     ]
    }
   ],
   "source": [
    "remove(find(t, 3))"
   ]
  },
  {
   "cell_type": "code",
   "execution_count": 24,
   "metadata": {},
   "outputs": [
    {
     "name": "stdout",
     "output_type": "stream",
     "text": [
      "(((. 2 .) 5 .) 14 (. 27 .))\n"
     ]
    }
   ],
   "source": [
    "print(t)"
   ]
  },
  {
   "cell_type": "code",
   "execution_count": 25,
   "metadata": {},
   "outputs": [
    {
     "name": "stdout",
     "output_type": "stream",
     "text": [
      "removing leaf node\n"
     ]
    }
   ],
   "source": [
    "remove(find(t, 27))"
   ]
  },
  {
   "cell_type": "code",
   "execution_count": 26,
   "metadata": {},
   "outputs": [
    {
     "name": "stdout",
     "output_type": "stream",
     "text": [
      "(((. 2 .) 5 .) 14 .)\n"
     ]
    }
   ],
   "source": [
    "print(t)"
   ]
  },
  {
   "cell_type": "code",
   "execution_count": 27,
   "metadata": {},
   "outputs": [
    {
     "name": "stdout",
     "output_type": "stream",
     "text": [
      "removing node with one child\n"
     ]
    }
   ],
   "source": [
    "remove(find(t, 5))"
   ]
  },
  {
   "cell_type": "code",
   "execution_count": 28,
   "metadata": {},
   "outputs": [
    {
     "name": "stdout",
     "output_type": "stream",
     "text": [
      "((. 2 .) 14 .)\n"
     ]
    }
   ],
   "source": [
    "print(t)"
   ]
  },
  {
   "cell_type": "code",
   "execution_count": 29,
   "metadata": {},
   "outputs": [
    {
     "data": {
      "text/plain": [
       "True"
      ]
     },
     "execution_count": 29,
     "metadata": {},
     "output_type": "execute_result"
    }
   ],
   "source": [
    "1 < 2 < 3"
   ]
  },
  {
   "cell_type": "code",
   "execution_count": 30,
   "metadata": {},
   "outputs": [],
   "source": [
    "def is_bst_within(tree, lower, upper):\n",
    "    if tree is None:\n",
    "        return True\n",
    "    elif tree.left is None and tree.right is None:\n",
    "        return lower <= tree.data <= upper\n",
    "    else:  \n",
    "        return is_bst_within(tree.left, lower, tree.data - 1) and is_bst_within(tree.right, tree.data - 1, upper)\n",
    "\n",
    "def is_bst(tree):\n",
    "    minimum_node = minimum(tree)\n",
    "    maximum_node = maximum(tree)\n",
    "    return is_bst_within(tree, minimum_node.data, maximum_node.data)"
   ]
  },
  {
   "cell_type": "code",
   "execution_count": 31,
   "metadata": {},
   "outputs": [
    {
     "data": {
      "text/plain": [
       "True"
      ]
     },
     "execution_count": 31,
     "metadata": {},
     "output_type": "execute_result"
    }
   ],
   "source": [
    "is_bst(t2)"
   ]
  },
  {
   "cell_type": "code",
   "execution_count": 32,
   "metadata": {},
   "outputs": [],
   "source": [
    "def add_left_leaf(tree, value):\n",
    "    tree.left = BinaryTree(value)\n",
    "    \n",
    "def add_right_leaf(tree, value):\n",
    "    tree.right = BinaryTree(value)"
   ]
  },
  {
   "cell_type": "code",
   "execution_count": 33,
   "metadata": {},
   "outputs": [],
   "source": [
    "non_bst = BinaryTree(10)\n",
    "add_left_leaf(non_bst, 20)\n",
    "add_right_leaf(non_bst, -20)\n",
    "add_left_leaf(non_bst.left, 30)\n",
    "add_right_leaf(non_bst.right, 15)"
   ]
  },
  {
   "cell_type": "code",
   "execution_count": 34,
   "metadata": {},
   "outputs": [
    {
     "name": "stdout",
     "output_type": "stream",
     "text": [
      "(((. 30 .) 20 .) 10 (. -20 (. 15 .)))\n"
     ]
    }
   ],
   "source": [
    "print(non_bst)"
   ]
  },
  {
   "cell_type": "code",
   "execution_count": 35,
   "metadata": {},
   "outputs": [
    {
     "data": {
      "text/plain": [
       "False"
      ]
     },
     "execution_count": 35,
     "metadata": {},
     "output_type": "execute_result"
    }
   ],
   "source": [
    "is_bst(non_bst)"
   ]
  },
  {
   "cell_type": "code",
   "execution_count": 37,
   "metadata": {},
   "outputs": [
    {
     "name": "stdout",
     "output_type": "stream",
     "text": [
      "(. 4 .)\n",
      "removing leaf node\n",
      "(. . .)\n"
     ]
    }
   ],
   "source": [
    "one_node_tree = BinaryTree(4)\n",
    "print(one_node_tree)\n",
    "remove(one_node_tree)\n",
    "print(one_node_tree)"
   ]
  },
  {
   "cell_type": "code",
   "execution_count": null,
   "metadata": {},
   "outputs": [],
   "source": []
  }
 ],
 "metadata": {
  "kernelspec": {
   "display_name": "Python 3",
   "language": "python",
   "name": "python3"
  },
  "language_info": {
   "codemirror_mode": {
    "name": "ipython",
    "version": 3
   },
   "file_extension": ".py",
   "mimetype": "text/x-python",
   "name": "python",
   "nbconvert_exporter": "python",
   "pygments_lexer": "ipython3",
   "version": "3.6.4"
  }
 },
 "nbformat": 4,
 "nbformat_minor": 2
}
